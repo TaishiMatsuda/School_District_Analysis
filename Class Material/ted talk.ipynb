{
 "cells": [
  {
   "cell_type": "code",
   "execution_count": 1,
   "metadata": {},
   "outputs": [],
   "source": [
    "import pandas as pd"
   ]
  },
  {
   "cell_type": "code",
   "execution_count": 3,
   "metadata": {},
   "outputs": [],
   "source": [
    "file = \"ted_talks.csv\"\n",
    "ted_df = pd.read_csv(file)"
   ]
  },
  {
   "cell_type": "code",
   "execution_count": 16,
   "metadata": {},
   "outputs": [],
   "source": [
    "ted_sorted_df = ted_df.sort_values(\"views\",ascending=False)"
   ]
  },
  {
   "cell_type": "code",
   "execution_count": 17,
   "metadata": {},
   "outputs": [
    {
     "data": {
      "text/html": [
       "<div>\n",
       "<style scoped>\n",
       "    .dataframe tbody tr th:only-of-type {\n",
       "        vertical-align: middle;\n",
       "    }\n",
       "\n",
       "    .dataframe tbody tr th {\n",
       "        vertical-align: top;\n",
       "    }\n",
       "\n",
       "    .dataframe thead th {\n",
       "        text-align: right;\n",
       "    }\n",
       "</style>\n",
       "<table border=\"1\" class=\"dataframe\">\n",
       "  <thead>\n",
       "    <tr style=\"text-align: right;\">\n",
       "      <th></th>\n",
       "      <th>comments</th>\n",
       "      <th>description</th>\n",
       "      <th>duration</th>\n",
       "      <th>event</th>\n",
       "      <th>languages</th>\n",
       "      <th>main_speaker</th>\n",
       "      <th>name</th>\n",
       "      <th>title</th>\n",
       "      <th>views</th>\n",
       "    </tr>\n",
       "  </thead>\n",
       "  <tbody>\n",
       "    <tr>\n",
       "      <th>0</th>\n",
       "      <td>4553</td>\n",
       "      <td>Sir Ken Robinson makes an entertaining and pro...</td>\n",
       "      <td>1164</td>\n",
       "      <td>TED2006</td>\n",
       "      <td>60</td>\n",
       "      <td>Ken Robinson</td>\n",
       "      <td>Ken Robinson: Do schools kill creativity?</td>\n",
       "      <td>Do schools kill creativity?</td>\n",
       "      <td>47227110</td>\n",
       "    </tr>\n",
       "  </tbody>\n",
       "</table>\n",
       "</div>"
      ],
      "text/plain": [
       "   comments                                        description  duration  \\\n",
       "0      4553  Sir Ken Robinson makes an entertaining and pro...      1164   \n",
       "\n",
       "     event  languages  main_speaker  \\\n",
       "0  TED2006         60  Ken Robinson   \n",
       "\n",
       "                                        name                        title  \\\n",
       "0  Ken Robinson: Do schools kill creativity?  Do schools kill creativity?   \n",
       "\n",
       "      views  \n",
       "0  47227110  "
      ]
     },
     "execution_count": 17,
     "metadata": {},
     "output_type": "execute_result"
    }
   ],
   "source": [
    "ted_sorted_df.head(1)"
   ]
  },
  {
   "cell_type": "code",
   "execution_count": 18,
   "metadata": {},
   "outputs": [
    {
     "data": {
      "text/html": [
       "<div>\n",
       "<style scoped>\n",
       "    .dataframe tbody tr th:only-of-type {\n",
       "        vertical-align: middle;\n",
       "    }\n",
       "\n",
       "    .dataframe tbody tr th {\n",
       "        vertical-align: top;\n",
       "    }\n",
       "\n",
       "    .dataframe thead th {\n",
       "        text-align: right;\n",
       "    }\n",
       "</style>\n",
       "<table border=\"1\" class=\"dataframe\">\n",
       "  <thead>\n",
       "    <tr style=\"text-align: right;\">\n",
       "      <th></th>\n",
       "      <th>comments</th>\n",
       "      <th>description</th>\n",
       "      <th>duration</th>\n",
       "      <th>event</th>\n",
       "      <th>languages</th>\n",
       "      <th>main_speaker</th>\n",
       "      <th>name</th>\n",
       "      <th>title</th>\n",
       "      <th>views</th>\n",
       "    </tr>\n",
       "  </thead>\n",
       "  <tbody>\n",
       "    <tr>\n",
       "      <th>594</th>\n",
       "      <td>20</td>\n",
       "      <td>In the midst of an earlier crisis, Haitian aut...</td>\n",
       "      <td>3573</td>\n",
       "      <td>University of California</td>\n",
       "      <td>0</td>\n",
       "      <td>Edwidge Danticat</td>\n",
       "      <td>Edwidge Danticat: Stories of Haiti</td>\n",
       "      <td>Stories of Haiti</td>\n",
       "      <td>50443</td>\n",
       "    </tr>\n",
       "  </tbody>\n",
       "</table>\n",
       "</div>"
      ],
      "text/plain": [
       "     comments                                        description  duration  \\\n",
       "594        20  In the midst of an earlier crisis, Haitian aut...      3573   \n",
       "\n",
       "                        event  languages      main_speaker  \\\n",
       "594  University of California          0  Edwidge Danticat   \n",
       "\n",
       "                                   name             title  views  \n",
       "594  Edwidge Danticat: Stories of Haiti  Stories of Haiti  50443  "
      ]
     },
     "execution_count": 18,
     "metadata": {},
     "output_type": "execute_result"
    }
   ],
   "source": [
    "ted_sorted_df.tail(1)"
   ]
  },
  {
   "cell_type": "code",
   "execution_count": 19,
   "metadata": {},
   "outputs": [],
   "source": [
    "bin = [0,10000,50000,100000,500000,1000000,5000000,10000000,50000000]\n",
    "name = [\"<10000\",\"10000-50000\",\"50000-100000\",\"100000-500000\",\"500000-1000000\",\"1000000-5000000\",\"5000000-10000000\",\"10000000-50000000\"]"
   ]
  },
  {
   "cell_type": "code",
   "execution_count": 23,
   "metadata": {},
   "outputs": [],
   "source": [
    "ted_sorted_df[\"view category\"] = pd.cut(ted_sorted_df[\"views\"],bin,labels=name)"
   ]
  },
  {
   "cell_type": "code",
   "execution_count": 26,
   "metadata": {},
   "outputs": [],
   "source": [
    "ted_group = ted_sorted_df.groupby(\"view category\")"
   ]
  },
  {
   "cell_type": "code",
   "execution_count": 28,
   "metadata": {},
   "outputs": [
    {
     "data": {
      "text/html": [
       "<div>\n",
       "<style scoped>\n",
       "    .dataframe tbody tr th:only-of-type {\n",
       "        vertical-align: middle;\n",
       "    }\n",
       "\n",
       "    .dataframe tbody tr th {\n",
       "        vertical-align: top;\n",
       "    }\n",
       "\n",
       "    .dataframe thead th {\n",
       "        text-align: right;\n",
       "    }\n",
       "</style>\n",
       "<table border=\"1\" class=\"dataframe\">\n",
       "  <thead>\n",
       "    <tr style=\"text-align: right;\">\n",
       "      <th></th>\n",
       "      <th>comments</th>\n",
       "      <th>languages</th>\n",
       "      <th>duration</th>\n",
       "    </tr>\n",
       "    <tr>\n",
       "      <th>view category</th>\n",
       "      <th></th>\n",
       "      <th></th>\n",
       "      <th></th>\n",
       "    </tr>\n",
       "  </thead>\n",
       "  <tbody>\n",
       "    <tr>\n",
       "      <th>&lt;10000</th>\n",
       "      <td>NaN</td>\n",
       "      <td>NaN</td>\n",
       "      <td>NaN</td>\n",
       "    </tr>\n",
       "    <tr>\n",
       "      <th>10000-50000</th>\n",
       "      <td>NaN</td>\n",
       "      <td>NaN</td>\n",
       "      <td>NaN</td>\n",
       "    </tr>\n",
       "    <tr>\n",
       "      <th>50000-100000</th>\n",
       "      <td>35.333333</td>\n",
       "      <td>0.000000</td>\n",
       "      <td>1591.666667</td>\n",
       "    </tr>\n",
       "    <tr>\n",
       "      <th>100000-500000</th>\n",
       "      <td>90.336957</td>\n",
       "      <td>18.967391</td>\n",
       "      <td>825.018116</td>\n",
       "    </tr>\n",
       "    <tr>\n",
       "      <th>500000-1000000</th>\n",
       "      <td>118.005208</td>\n",
       "      <td>24.733073</td>\n",
       "      <td>830.218750</td>\n",
       "    </tr>\n",
       "    <tr>\n",
       "      <th>1000000-5000000</th>\n",
       "      <td>219.678063</td>\n",
       "      <td>29.534900</td>\n",
       "      <td>819.066239</td>\n",
       "    </tr>\n",
       "    <tr>\n",
       "      <th>5000000-10000000</th>\n",
       "      <td>469.153846</td>\n",
       "      <td>38.569231</td>\n",
       "      <td>842.969231</td>\n",
       "    </tr>\n",
       "    <tr>\n",
       "      <th>10000000-50000000</th>\n",
       "      <td>996.882353</td>\n",
       "      <td>43.470588</td>\n",
       "      <td>963.264706</td>\n",
       "    </tr>\n",
       "  </tbody>\n",
       "</table>\n",
       "</div>"
      ],
      "text/plain": [
       "                     comments  languages     duration\n",
       "view category                                        \n",
       "<10000                    NaN        NaN          NaN\n",
       "10000-50000               NaN        NaN          NaN\n",
       "50000-100000        35.333333   0.000000  1591.666667\n",
       "100000-500000       90.336957  18.967391   825.018116\n",
       "500000-1000000     118.005208  24.733073   830.218750\n",
       "1000000-5000000    219.678063  29.534900   819.066239\n",
       "5000000-10000000   469.153846  38.569231   842.969231\n",
       "10000000-50000000  996.882353  43.470588   963.264706"
      ]
     },
     "execution_count": 28,
     "metadata": {},
     "output_type": "execute_result"
    }
   ],
   "source": [
    "ted_group[['comments','languages','duration']].mean()"
   ]
  },
  {
   "cell_type": "code",
   "execution_count": null,
   "metadata": {},
   "outputs": [],
   "source": []
  }
 ],
 "metadata": {
  "kernelspec": {
   "display_name": "PythonData",
   "language": "python",
   "name": "pythondata"
  },
  "language_info": {
   "codemirror_mode": {
    "name": "ipython",
    "version": 3
   },
   "file_extension": ".py",
   "mimetype": "text/x-python",
   "name": "python",
   "nbconvert_exporter": "python",
   "pygments_lexer": "ipython3",
   "version": "3.7.6"
  }
 },
 "nbformat": 4,
 "nbformat_minor": 4
}
